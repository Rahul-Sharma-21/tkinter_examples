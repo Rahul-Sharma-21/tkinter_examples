{
 "cells": [
  {
   "cell_type": "code",
   "execution_count": 11,
   "metadata": {},
   "outputs": [
    {
     "name": "stdout",
     "output_type": "stream",
     "text": [
      "hello world\n",
      "\t\tWelcome to python\n",
      "sachin yadav\n",
      "\n",
      "\tyeah!! you see me\n",
      "\n"
     ]
    }
   ],
   "source": [
    "from tkinter import * \n",
    "\n",
    "r  = Tk()\n",
    "\n",
    "t = Text(r)\n",
    "t.insert('1.0',\"hello world\\n\\t\\tWelcome to python\\nsachin yadav\")\n",
    "t.insert('end', b\"\\n\\n\\tyeah!! you see me\")\n",
    "t.pack()\n",
    "print(t.get('1.0','end'))\n",
    "r.mainloop()\n"
   ]
  },
  {
   "cell_type": "code",
   "execution_count": 22,
   "metadata": {},
   "outputs": [],
   "source": [
    "from tkinter import * \n",
    "root = Tk()\n",
    "e = Entry(root,font=('times',15),fg=\"#333333\")\n",
    "e.pack(side=BOTTOM,fill=X,expand=YES)\n",
    "canvas = Canvas(root,height=400, width=400, borderwidth=0)\n",
    "frame = Frame(canvas)\n",
    "\n",
    "hsc = Scrollbar(root)\n",
    "hsc.pack(side=BOTTOM,fill=X)\n",
    "hsc.config(command=canvas.xview,orient='horizontal')\n",
    "canvas.config(xscrollcommand=hsc.set)\n",
    "\n",
    "vsc = Scrollbar(root)\n",
    "vsc.pack(side=RIGHT,fill=Y)\n",
    "vsc.config(command=canvas.yview)\n",
    "canvas.config(yscrollcommand=vsc.set)\n",
    "\n",
    "canvas.pack(side=LEFT,fill=BOTH,expand=YES)\n",
    "labels = []\n",
    "\n",
    "canvas.create_window((0,0), window=frame, anchor='nw', tags=\"frame\")\n",
    "#canvas.config(scrollregion=canvas.bbox('all'))\n",
    "frame.bind(\"<Configure>\",lambda event:canvas.config(scrollregion=canvas.bbox('all')))\n",
    "def on_entry(l):\n",
    "    l.configure(fg='green', font=('times', 15, 'bold'))\n",
    "def on_leave(l):\n",
    "    l.configure(fg='#333333', font=(\"times\", 15, 'bold'))\n",
    "flag = False\n",
    "def add_note(event):\n",
    "    global flag\n",
    "    data = e.get()\n",
    "    if flag:\n",
    "        data = data.rjust(50)\n",
    "        flag = False\n",
    "    else : \n",
    "        flag = True\n",
    "    e.delete('0', END)\n",
    "    l = Label(frame,text=data,fg='#333333', font=(\"times\", 15, 'bold'))\n",
    "    l.bind('<Enter>',lambda event:on_entry(l))\n",
    "    l.bind('<Leave>',lambda event:on_leave(l))\n",
    "    l.pack(anchor=NW)\n",
    "    \n",
    "e.bind(\"<Return>\",add_note)\n",
    "e.focus()\n",
    "root.mainloop()"
   ]
  },
  {
   "cell_type": "code",
   "execution_count": 15,
   "metadata": {},
   "outputs": [],
   "source": [
    "from tkinter import * \n",
    "from PIL import Image\n",
    "from PIL.ImageTk import PhotoImage\n",
    "\n",
    "\n",
    "class MyCanvas:\n",
    "    def __init__(self, root=None):\n",
    "        self.canvas = Canvas(root, height=400, width=400, borderwidth=0)\n",
    "        self.frame = Frame(self.canvas)\n",
    "        self.hsc = Scrollbar(root)\n",
    "        self.hsc.pack(side=BOTTOM, fill=X)\n",
    "        self.hsc.config(command=self.canvas.xview, orient='horizontal')\n",
    "        self.canvas.config(xscrollcommand=self.hsc.set)\n",
    "\n",
    "        self.vsc = Scrollbar(root)\n",
    "        self.vsc.pack(side=RIGHT,fill=Y)\n",
    "        self.vsc.config(command=self.canvas.yview)\n",
    "        self.canvas.config(yscrollcommand=self.vsc.set)\n",
    "\n",
    "        self.canvas.pack(side=LEFT, fill=BOTH, expand=YES)\n",
    "        self.canvas.create_window((0,0), window=self.frame, anchor='nw',\n",
    "                                  tags=\"frame\")\n",
    "        self.frame.bind(\"<Configure>\",\n",
    "                        lambda event:self.canvas.config(\n",
    "                            scrollregion=self.canvas.bbox('all')))\n",
    "    \n",
    "        self.img = Image.open(\"images/one.jpg\")\n",
    "        self.img.thumbnail((200,200), Image.ANTIALIAS)\n",
    "        self.data = PhotoImage(self.img)\n",
    "        self.l = Label(self.frame, image=self.data)\n",
    "        self.l.bind('<Enter>', self.on_entry)\n",
    "        self.l.bind('<Leave>', self.on_leave)\n",
    "        self.l.pack(anchor=NW)\n",
    "\n",
    "    def on_entry(self,event):\n",
    "        #self.img.thumbnail((250,250),Image.ANTIALIAS)\n",
    "        self.img = self.img.resize((250,250))\n",
    "        self.data = PhotoImage(self.img)\n",
    "        self.l.configure(image=self.data,height=250,width=250)\n",
    "    def on_leave(self,event):\n",
    "        #self.img.thumbnail((200,200),Image.ANTIALIAS)\n",
    "        self.img = self.img.resize((200,200))\n",
    "        self.data = PhotoImage(self.img)\n",
    "        self.l.configure(image=self.data,height=200,width=200)\n",
    "\n",
    "if __name__ == \"__main__\":\n",
    "    root = Tk()\n",
    "    canvas = MyCanvas(root)\n",
    "    root.mainloop()"
   ]
  },
  {
   "cell_type": "code",
   "execution_count": 5,
   "metadata": {},
   "outputs": [
    {
     "data": {
      "text/plain": [
       "177"
      ]
     },
     "execution_count": 5,
     "metadata": {},
     "output_type": "execute_result"
    }
   ],
   "source": [
    "height"
   ]
  },
  {
   "cell_type": "code",
   "execution_count": 4,
   "metadata": {},
   "outputs": [],
   "source": [
    "x = Image.open('images\\one.jpg')"
   ]
  },
  {
   "cell_type": "code",
   "execution_count": 5,
   "metadata": {},
   "outputs": [],
   "source": [
    "x.thumbnail((200,200),Image.ANTIALIAS)"
   ]
  },
  {
   "cell_type": "code",
   "execution_count": 9,
   "metadata": {},
   "outputs": [],
   "source": [
    "d = x.resize((400,400))"
   ]
  },
  {
   "cell_type": "code",
   "execution_count": 10,
   "metadata": {},
   "outputs": [
    {
     "data": {
      "image/png": "[encoded data removed]",
      "text/plain": [
       "<PIL.Image.Image image mode=RGB size=400x400 at 0x259BDC3EA48>"
      ]
     },
     "execution_count": 10,
     "metadata": {},
     "output_type": "execute_result"
    }
   ],
   "source": [
    "d"
   ]
  },
  {
   "cell_type": "code",
   "execution_count": 1,
   "metadata": {},
   "outputs": [],
   "source": [
    "import requests"
   ]
  },
  {
   "cell_type": "code",
   "execution_count": 5,
   "metadata": {},
   "outputs": [],
   "source": [
    "data = requests.get(\"http://ltrc.iiit.ac.in/analyzer/hindi/run.cgi\",)"
   ]
  },
  {
   "cell_type": "code",
   "execution_count": 6,
   "metadata": {},
   "outputs": [
    {
     "data": {
      "text/plain": [
       "200"
      ]
     },
     "execution_count": 6,
     "metadata": {},
     "output_type": "execute_result"
    }
   ],
   "source": [
    "data.status_code"
   ]
  },
  {
   "cell_type": "code",
   "execution_count": 36,
   "metadata": {},
   "outputs": [],
   "source": [
    "url = \"http://ltrc.iiit.ac.in/analyzer/hindi/\"\n",
    "string = \"जीने का बदल देंगी नजरिया\""
   ]
  },
  {
   "cell_type": "code",
   "execution_count": 37,
   "metadata": {},
   "outputs": [],
   "source": [
    "data={'input':string, 'notation':'utf8', 'out_otation':'wx', 'submit':'Submit', 'action': 'run.cgi'}"
   ]
  },
  {
   "cell_type": "code",
   "execution_count": 38,
   "metadata": {},
   "outputs": [],
   "source": [
    "page= requests.post(url,data=data)"
   ]
  },
  {
   "cell_type": "code",
   "execution_count": 39,
   "metadata": {},
   "outputs": [
    {
     "data": {
      "text/plain": [
       "200"
      ]
     },
     "execution_count": 39,
     "metadata": {},
     "output_type": "execute_result"
    }
   ],
   "source": [
    "page.status_code"
   ]
  },
  {
   "cell_type": "code",
   "execution_count": 40,
   "metadata": {},
   "outputs": [
    {
     "name": "stdout",
     "output_type": "stream",
     "text": [
      "<!DOCTYPE html PUBLIC \"-//W3C//DTD HTML 4.01 Transitional//EN\">\n",
      "\t<html>\n",
      "\t<head>\n",
      "\t<title>Hindi Shallow Parser</title>\n",
      "\t<link rel=\"stylesheet\" href=\"html.css\" type=\"text/css\">\n",
      "\t<meta http-equiv=\"content-type\" content=\"text/html; charset=utf-8\">\n",
      "\t<meta name=\"description\" content=\"Hindi Shallow Parser\">\n",
      "\t</head>\n",
      "\t<body>\n",
      "\t<h1 align=\"center\">Hindi Shallow Parser</h1>\n",
      "\t<hr width=\"100%\" color=\"666666\" size=\"4\">\n",
      "\n",
      "\t<form name=\"form1\" id=\"form1\" method=\"post\" action=\"run.cgi\">\n",
      "\n",
      "\t<table width=\"100%\">\n",
      "\t<tr>\n",
      "\t<td width=\"33%\"></td>\n",
      "\t<td align=\"center\" >Enter Text:</td>\n",
      "\t<td align=\"right\"><a href=\"./Instructions.txt\" align=\"right\" target=\"_blank\" font=\"2\">Instructions</a></td>\n",
      "\t</tr>\n",
      "\t<tr>\n",
      "\t<td colspan=\"3\" align=\"right\"> <a href=\"shallow-parser-hin-3.0.fc8/doc/ssf-guide-4oct07.pdf\">SSF Format Doc</a></td>\n",
      "\t</tr>\n",
      "\t</table>\n",
      "\t<p align=\"center\">\n",
      "\t\t<textarea name=\"input\" cols=\"46\" rows=\"5\" style=\"font-size:16pt;\" >सभी बच्चे किताब पढ़ते हैं। </textarea><br/><br/>\n",
      "\t\tInput Notation: <input type=\"radio\" name=\"notation\" value=\"utf\" checked> UTF-8\n",
      "\t\t<input type=\"radio\" name=\"notation\" value=\"wx\"> WX<br><br><br>\n",
      "\t\t\n",
      "\t\tOutput Notation: <input type=\"radio\" name=\"out_notation\" value=\"utf\" checked> UTF-8\n",
      "\t\t<input type=\"radio\" name=\"out_notation\" value=\"wx\"> WX<br><br><br>\n",
      "\t\t<input type=\"submit\" name=\"submit\" value=\"Submit\" /><br/>\n",
      "\t</p>\n",
      "\t</form>\n",
      "\t<hr width=\"100%\" color=\"666666\" size=\"4\">\n",
      "\t<table width=\"100%\">\n",
      "        <tr>\n",
      "        <td width=\"37%\">Send Feedback to</td>\n",
      "        <td align=\"left\"> Funded by: TDIL Program, Department Of IT  Govt. Of India  </td>\n",
      "        </tr>\n",
      "\t<tr>\n",
      "\t<td> shallowparser[at]research[dot]iiit[dot]ac[dot]in</td>\n",
      "\t<td align=\"centre\"> &nbsp&nbsp&nbsp&nbsp&nbsp&nbsp&nbsp&nbsp&nbsp&nbsp&nbsp&nbsp&nbsp&nbsp&nbsp&nbsp&nbsp&nbsp&nbsp&nbsp&nbsp&nbsp Maintained By LTRC IIIT-Hyderabad </td>\n",
      "\t</tr>\n",
      "\t<tr>\n",
      "\t<td width=\"37%\"></td>\n",
      "\t<td align=\"left\"> &nbsp&nbsp&nbsp&nbsp&nbsp&nbsp&nbsp&nbsp&nbsp&nbsp&nbsp&nbsp&nbsp&nbsp&nbsp&nbsp&nbsp&nbsp Developed by *Consortium of Institutions</td>\n",
      "\t</tr>\n",
      "        </table>\n",
      "\t<center>\n",
      "        <img src=\"bottom_logo.jpg\" align=\"center\"/>     \n",
      "        </center>\n",
      "\t\n",
      "\t</body>\n",
      "\t</html>\n",
      "\n"
     ]
    }
   ],
   "source": [
    "print(page.content.decode())"
   ]
  },
  {
   "cell_type": "code",
   "execution_count": 41,
   "metadata": {},
   "outputs": [
    {
     "data": {
      "text/plain": [
       "<Response [405]>"
      ]
     },
     "execution_count": 41,
     "metadata": {},
     "output_type": "execute_result"
    }
   ],
   "source": [
    "requests.get('http://localhost:8088')"
   ]
  },
  {
   "cell_type": "code",
   "execution_count": 1,
   "metadata": {},
   "outputs": [],
   "source": [
    "import requests"
   ]
  },
  {
   "cell_type": "code",
   "execution_count": 2,
   "metadata": {},
   "outputs": [],
   "source": [
    "data = requests.get(\"http://localhost:8088\")"
   ]
  },
  {
   "cell_type": "code",
   "execution_count": 3,
   "metadata": {},
   "outputs": [
    {
     "data": {
      "text/plain": [
       "200"
      ]
     },
     "execution_count": 3,
     "metadata": {},
     "output_type": "execute_result"
    }
   ],
   "source": [
    "data.status_code"
   ]
  },
  {
   "cell_type": "code",
   "execution_count": 4,
   "metadata": {},
   "outputs": [
    {
     "data": {
      "text/plain": [
       "b'Bye'"
      ]
     },
     "execution_count": 4,
     "metadata": {},
     "output_type": "execute_result"
    }
   ],
   "source": [
    "data.content"
   ]
  },
  {
   "cell_type": "code",
   "execution_count": 5,
   "metadata": {},
   "outputs": [],
   "source": [
    "d = requests.post(\"http://localhost:8088\")"
   ]
  },
  {
   "cell_type": "code",
   "execution_count": 6,
   "metadata": {},
   "outputs": [
    {
     "data": {
      "text/plain": [
       "200"
      ]
     },
     "execution_count": 6,
     "metadata": {},
     "output_type": "execute_result"
    }
   ],
   "source": [
    "d.status_code"
   ]
  },
  {
   "cell_type": "code",
   "execution_count": 7,
   "metadata": {},
   "outputs": [
    {
     "data": {
      "text/plain": [
       "b'Hello'"
      ]
     },
     "execution_count": 7,
     "metadata": {},
     "output_type": "execute_result"
    }
   ],
   "source": [
    "d.content"
   ]
  },
  {
   "cell_type": "code",
   "execution_count": null,
   "metadata": {},
   "outputs": [],
   "source": []
  }
 ],
 "metadata": {
  "kernelspec": {
   "display_name": "Python 3",
   "language": "python",
   "name": "python3"
  },
  "language_info": {
   "codemirror_mode": {
    "name": "ipython",
    "version": 3
   },
   "file_extension": ".py",
   "mimetype": "text/x-python",
   "name": "python",
   "nbconvert_exporter": "python",
   "pygments_lexer": "ipython3",
   "version": "3.7.4"
  }
 },
 "nbformat": 4,
 "nbformat_minor": 2
}
